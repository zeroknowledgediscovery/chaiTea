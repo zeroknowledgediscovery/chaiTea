{
 "cells": [
  {
   "cell_type": "markdown",
   "id": "4d979e4b-3cfb-452b-9f22-c593a479c9ec",
   "metadata": {},
   "source": [
    "# Lesson 1\n",
    "\n",
    "---\n",
    "\n",
    "+ addition\n",
    "+ subtraction\n",
    "+ division\n",
    "+ multiplication\n",
    "+ division ands remainders\n"
   ]
  },
  {
   "cell_type": "code",
   "execution_count": 2,
   "id": "f30c3dce-6d36-448f-bbf6-477c4ce4e9c3",
   "metadata": {},
   "outputs": [
    {
     "data": {
      "text/plain": [
       "5"
      ]
     },
     "execution_count": 2,
     "metadata": {},
     "output_type": "execute_result"
    }
   ],
   "source": [
    "2+3"
   ]
  },
  {
   "cell_type": "code",
   "execution_count": 3,
   "id": "d2c0a7a2-1feb-4dfd-964f-b1a24c47f385",
   "metadata": {},
   "outputs": [
    {
     "data": {
      "text/plain": [
       "6"
      ]
     },
     "execution_count": 3,
     "metadata": {},
     "output_type": "execute_result"
    }
   ],
   "source": [
    "2*3"
   ]
  },
  {
   "cell_type": "code",
   "execution_count": 4,
   "id": "139fbb55-3286-449e-ac60-dc5037111224",
   "metadata": {},
   "outputs": [
    {
     "data": {
      "text/plain": [
       "0.6666666666666666"
      ]
     },
     "execution_count": 4,
     "metadata": {},
     "output_type": "execute_result"
    }
   ],
   "source": [
    "2/3"
   ]
  },
  {
   "cell_type": "code",
   "execution_count": 5,
   "id": "dedb4417-eed2-43bc-9abd-12c6ef140078",
   "metadata": {},
   "outputs": [
    {
     "data": {
      "text/plain": [
       "1"
      ]
     },
     "execution_count": 5,
     "metadata": {},
     "output_type": "execute_result"
    }
   ],
   "source": [
    "3-2"
   ]
  },
  {
   "cell_type": "markdown",
   "id": "0e98af14-42b2-42d1-b42e-85f8d67dd04f",
   "metadata": {},
   "source": [
    "# Variables and assignment operator"
   ]
  },
  {
   "cell_type": "code",
   "execution_count": 1,
   "id": "781ca5f0-a07e-409c-8590-0eb092bcc79b",
   "metadata": {},
   "outputs": [
    {
     "name": "stdout",
     "output_type": "stream",
     "text": [
      "The history saving thread hit an unexpected error (OperationalError('attempt to write a readonly database')).History will not be written to the database.\n"
     ]
    }
   ],
   "source": [
    "x=1"
   ]
  },
  {
   "cell_type": "code",
   "execution_count": 41,
   "id": "0f72c3c5-b429-430f-a13e-8393d1c8f0ed",
   "metadata": {},
   "outputs": [
    {
     "data": {
      "text/plain": [
       "23"
      ]
     },
     "execution_count": 41,
     "metadata": {},
     "output_type": "execute_result"
    }
   ],
   "source": [
    "x=x+1\n",
    "x"
   ]
  },
  {
   "cell_type": "code",
   "execution_count": 27,
   "id": "617d97c9-494c-4e68-b2c0-379cbf8db647",
   "metadata": {},
   "outputs": [
    {
     "data": {
      "text/plain": [
       "False"
      ]
     },
     "execution_count": 27,
     "metadata": {},
     "output_type": "execute_result"
    }
   ],
   "source": [
    "8==x  # evaliation operator"
   ]
  },
  {
   "cell_type": "markdown",
   "id": "a281e084-701e-4ac9-a2c9-eee51968b552",
   "metadata": {},
   "source": [
    "# functions"
   ]
  },
  {
   "cell_type": "markdown",
   "id": "4445ab9c-a00d-4729-a4a3-62e77e3510ea",
   "metadata": {},
   "source": [
    "```\n",
    "def funcname(x,y,...):\n",
    "\n",
    "    body\n",
    "\n",
    "    return z\n",
    "```\n",
    "\n",
    "Parts of a function:\n",
    "\n",
    "+ the key word (def)\n",
    "+ the functioin name\n",
    "+ input variables\n",
    "+ retun statement\n",
    "+ return value"
   ]
  },
  {
   "cell_type": "markdown",
   "id": "6867a85c-0abf-4601-a52a-59939f4b5468",
   "metadata": {},
   "source": [
    "# write a function  2 numbers"
   ]
  },
  {
   "cell_type": "code",
   "execution_count": 11,
   "id": "9c8ebbf0-2e52-4761-a59d-288baa22aa4f",
   "metadata": {},
   "outputs": [],
   "source": [
    "def sun(i,s):\n",
    "    z=i+s\n",
    "    return z"
   ]
  },
  {
   "cell_type": "code",
   "execution_count": 12,
   "id": "33a563d4-089e-440d-ba9a-5249b1e3493a",
   "metadata": {},
   "outputs": [],
   "source": [
    "def pop(k,u):\n",
    "    z=k*u\n",
    "    return z"
   ]
  },
  {
   "cell_type": "code",
   "execution_count": 18,
   "id": "ce1e23c3-1006-4e7a-af7a-8d946e4af951",
   "metadata": {},
   "outputs": [
    {
     "name": "stdout",
     "output_type": "stream",
     "text": [
      "12\n"
     ]
    },
    {
     "data": {
      "text/plain": [
       "13"
      ]
     },
     "execution_count": 18,
     "metadata": {},
     "output_type": "execute_result"
    }
   ],
   "source": [
    "w=sun(3,9)\n",
    "q=sun(4,9)\n",
    "print(w)\n",
    "q"
   ]
  },
  {
   "cell_type": "code",
   "execution_count": 19,
   "id": "ec6ea7de-ab88-4acc-8e06-c743aac53445",
   "metadata": {},
   "outputs": [
    {
     "data": {
      "text/plain": [
       "156"
      ]
     },
     "execution_count": 19,
     "metadata": {},
     "output_type": "execute_result"
    }
   ],
   "source": [
    "pop(w,q)"
   ]
  },
  {
   "cell_type": "markdown",
   "id": "3fc23260-0fbf-47d6-a8f0-69f28292f56d",
   "metadata": {},
   "source": [
    "# Exercise\n",
    "\n",
    "+ write a function that adds three numbers\n",
    "+ write a function that adds two numbers and multiplies the result by a thirtd numbert"
   ]
  },
  {
   "cell_type": "code",
   "execution_count": 21,
   "id": "eeb807e5-5ec4-4e1f-92bf-8738cc46552e",
   "metadata": {},
   "outputs": [],
   "source": [
    "def bob(d,f,g):\n",
    "    return d+f+g"
   ]
  },
  {
   "cell_type": "code",
   "execution_count": 22,
   "id": "548ea680-b926-4b83-9a64-852dc6f26d80",
   "metadata": {},
   "outputs": [
    {
     "data": {
      "text/plain": [
       "14"
      ]
     },
     "execution_count": 22,
     "metadata": {},
     "output_type": "execute_result"
    }
   ],
   "source": [
    "bob(2,5,7)"
   ]
  },
  {
   "cell_type": "code",
   "execution_count": 23,
   "id": "05cf1150-425b-45f5-b95b-66ed1d32a973",
   "metadata": {},
   "outputs": [],
   "source": [
    "def desx(d,f,g):\n",
    "    z = d+g\n",
    "    w = f*z\n",
    "    return w"
   ]
  },
  {
   "cell_type": "code",
   "execution_count": 24,
   "id": "952fe34a-9660-44c9-92cc-796206adbedb",
   "metadata": {},
   "outputs": [
    {
     "data": {
      "text/plain": [
       "50"
      ]
     },
     "execution_count": 24,
     "metadata": {},
     "output_type": "execute_result"
    }
   ],
   "source": [
    "desx(2,10,3)"
   ]
  },
  {
   "cell_type": "markdown",
   "id": "35ae6470-015e-44eb-b3ad-e36117eb77db",
   "metadata": {},
   "source": [
    " # function that divides two numbers"
   ]
  },
  {
   "cell_type": "code",
   "execution_count": 29,
   "id": "e8552645-67c1-4d07-a78c-6a402ac4ac57",
   "metadata": {},
   "outputs": [],
   "source": [
    "def web(r,g):\n",
    "    return r/g"
   ]
  },
  {
   "cell_type": "code",
   "execution_count": 26,
   "id": "f1f63117-a0e7-464c-a77d-cab9a9b5a20a",
   "metadata": {},
   "outputs": [
    {
     "data": {
      "text/plain": [
       "0.25"
      ]
     },
     "execution_count": 26,
     "metadata": {},
     "output_type": "execute_result"
    }
   ],
   "source": [
    "web(4,16)"
   ]
  },
  {
   "cell_type": "code",
   "execution_count": 23,
   "id": "214476e1-95d0-4cb6-9257-16b3116cdf1f",
   "metadata": {},
   "outputs": [],
   "source": [
    "A=\"isha\""
   ]
  },
  {
   "cell_type": "code",
   "execution_count": 24,
   "id": "969e6faf-cd55-4d0e-9a63-81fc3a6ef0a5",
   "metadata": {},
   "outputs": [
    {
     "data": {
      "text/plain": [
       "'isha'"
      ]
     },
     "execution_count": 24,
     "metadata": {},
     "output_type": "execute_result"
    }
   ],
   "source": [
    "A"
   ]
  },
  {
   "cell_type": "code",
   "execution_count": 21,
   "id": "89f5d4c5-2f86-4ce0-8139-60d0bf0037a3",
   "metadata": {},
   "outputs": [
    {
     "data": {
      "text/plain": [
       "False"
      ]
     },
     "execution_count": 21,
     "metadata": {},
     "output_type": "execute_result"
    }
   ],
   "source": [
    "isha=0"
   ]
  },
  {
   "cell_type": "code",
   "execution_count": 43,
   "id": "8dc4faab-a0e3-49d7-941e-b6db4ea22afa",
   "metadata": {},
   "outputs": [
    {
     "data": {
      "text/plain": [
       "0"
      ]
     },
     "execution_count": 43,
     "metadata": {},
     "output_type": "execute_result"
    }
   ],
   "source": [
    "isha"
   ]
  },
  {
   "cell_type": "code",
   "execution_count": 44,
   "id": "b3aa277b-d5a5-4883-a2af-119681830d1b",
   "metadata": {},
   "outputs": [
    {
     "data": {
      "text/plain": [
       "'isha'"
      ]
     },
     "execution_count": 44,
     "metadata": {},
     "output_type": "execute_result"
    }
   ],
   "source": [
    "A"
   ]
  },
  {
   "cell_type": "code",
   "execution_count": 45,
   "id": "79e6d2b7-b55c-4ddf-906e-27dd5ccd8b58",
   "metadata": {},
   "outputs": [],
   "source": [
    "isha=1"
   ]
  },
  {
   "cell_type": "code",
   "execution_count": 46,
   "id": "af0f7041-b7d3-4d99-976a-1ab5e0f249aa",
   "metadata": {},
   "outputs": [
    {
     "data": {
      "text/plain": [
       "1"
      ]
     },
     "execution_count": 46,
     "metadata": {},
     "output_type": "execute_result"
    }
   ],
   "source": [
    "isha"
   ]
  },
  {
   "cell_type": "code",
   "execution_count": 47,
   "id": "4f8f229f-1a0f-4441-945d-8a3d907df18e",
   "metadata": {},
   "outputs": [],
   "source": [
    "A=isha"
   ]
  },
  {
   "cell_type": "code",
   "execution_count": 48,
   "id": "9c562e54-42e0-4b9c-bee2-c8bb51239092",
   "metadata": {},
   "outputs": [
    {
     "data": {
      "text/plain": [
       "1"
      ]
     },
     "execution_count": 48,
     "metadata": {},
     "output_type": "execute_result"
    }
   ],
   "source": [
    "A"
   ]
  },
  {
   "cell_type": "code",
   "execution_count": 49,
   "id": "3460de55-703c-49b4-a18d-9da66deab1bd",
   "metadata": {},
   "outputs": [
    {
     "data": {
      "text/plain": [
       "4"
      ]
     },
     "execution_count": 49,
     "metadata": {},
     "output_type": "execute_result"
    }
   ],
   "source": [
    "A=2\n",
    "A=2*A\n",
    "A"
   ]
  },
  {
   "cell_type": "code",
   "execution_count": 51,
   "id": "4e6c2b01-c37e-4d28-aeba-df587225ff9a",
   "metadata": {},
   "outputs": [
    {
     "data": {
      "text/plain": [
       "'isha c0'"
      ]
     },
     "execution_count": 51,
     "metadata": {},
     "output_type": "execute_result"
    }
   ],
   "source": [
    "A='isha c'\n",
    "A=A+'0'\n",
    "A"
   ]
  },
  {
   "cell_type": "code",
   "execution_count": 52,
   "id": "0fee8b9a-39b0-4aec-a129-61c0973d5924",
   "metadata": {},
   "outputs": [
    {
     "data": {
      "text/plain": [
       "1"
      ]
     },
     "execution_count": 52,
     "metadata": {},
     "output_type": "execute_result"
    }
   ],
   "source": [
    "A=1\n",
    "B=0\n",
    "A+B"
   ]
  },
  {
   "cell_type": "code",
   "execution_count": 53,
   "id": "6bfeb35b-c7fa-4839-95d9-87f738a997d1",
   "metadata": {},
   "outputs": [
    {
     "data": {
      "text/plain": [
       "'10'"
      ]
     },
     "execution_count": 53,
     "metadata": {},
     "output_type": "execute_result"
    }
   ],
   "source": [
    "A='1'\n",
    "B='0'\n",
    "A+B"
   ]
  },
  {
   "cell_type": "code",
   "execution_count": 25,
   "id": "93e64e01-3c5b-4c32-b9a8-d4cd159a85ee",
   "metadata": {},
   "outputs": [
    {
     "data": {
      "text/plain": [
       "4"
      ]
     },
     "execution_count": 25,
     "metadata": {},
     "output_type": "execute_result"
    }
   ],
   "source": [
    "z=1\n",
    "z=z+1\n",
    "w=2*z\n",
    "w"
   ]
  },
  {
   "cell_type": "code",
   "execution_count": null,
   "id": "ba6cf9e3-22c2-4717-8512-9fafad492bd0",
   "metadata": {},
   "outputs": [],
   "source": []
  }
 ],
 "metadata": {
  "kernelspec": {
   "display_name": "Python 3 (ipykernel)",
   "language": "python",
   "name": "python3"
  },
  "language_info": {
   "codemirror_mode": {
    "name": "ipython",
    "version": 3
   },
   "file_extension": ".py",
   "mimetype": "text/x-python",
   "name": "python",
   "nbconvert_exporter": "python",
   "pygments_lexer": "ipython3",
   "version": "3.12.10"
  }
 },
 "nbformat": 4,
 "nbformat_minor": 5
}
