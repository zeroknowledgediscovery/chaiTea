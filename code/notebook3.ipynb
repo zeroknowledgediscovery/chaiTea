{
 "cells": [
  {
   "cell_type": "markdown",
   "id": "fbb48e8d-e0b9-4da6-8ec4-f270e2e4c077",
   "metadata": {},
   "source": [
    "# Simple Plotting"
   ]
  },
  {
   "cell_type": "code",
   "execution_count": null,
   "id": "5a046894-222f-4edf-b4e9-1affff987331",
   "metadata": {},
   "outputs": [],
   "source": []
  }
 ],
 "metadata": {
  "kernelspec": {
   "display_name": "Python 3 (ipykernel)",
   "language": "python",
   "name": "python3"
  },
  "language_info": {
   "codemirror_mode": {
    "name": "ipython",
    "version": 3
   },
   "file_extension": ".py",
   "mimetype": "text/x-python",
   "name": "python",
   "nbconvert_exporter": "python",
   "pygments_lexer": "ipython3",
   "version": "3.12.10"
  }
 },
 "nbformat": 4,
 "nbformat_minor": 5
}
