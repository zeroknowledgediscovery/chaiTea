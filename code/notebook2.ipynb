{
 "cells": [
  {
   "cell_type": "markdown",
   "id": "7b7ffe07-ca6e-4717-bcc4-81466ba8da18",
   "metadata": {},
   "source": [
    "# Control Structures\n",
    "---\n",
    "```\n",
    "if else\n",
    "for\n",
    "while\n",
    "```"
   ]
  },
  {
   "cell_type": "code",
   "execution_count": 46,
   "id": "fcb0aa00-1e88-484a-9950-d41ce972184d",
   "metadata": {},
   "outputs": [],
   "source": [
    "import numpy as np"
   ]
  },
  {
   "cell_type": "markdown",
   "id": "63c7643e-b060-48a9-a26f-2f06ca7d3d68",
   "metadata": {},
   "source": [
    "# Practice: \n",
    "write a function that takes three inputs, and calcuates their sum, and product\n",
    "and returns the values"
   ]
  },
  {
   "cell_type": "code",
   "execution_count": null,
   "id": "710ad150-10dd-4c2e-9f66-9aefdb55a514",
   "metadata": {},
   "outputs": [],
   "source": []
  },
  {
   "cell_type": "markdown",
   "id": "bda62d95-3166-4362-8fd5-c14cdb946418",
   "metadata": {},
   "source": [
    "# If else control structure:\n",
    "```\n",
    "if Cond :\n",
    "    statement\n",
    "else:\n",
    "    statement\n",
    " ```   "
   ]
  },
  {
   "cell_type": "code",
   "execution_count": 51,
   "id": "736a1099-b04d-4fdb-a85c-1de18e54f782",
   "metadata": {},
   "outputs": [
    {
     "data": {
      "text/plain": [
       "7"
      ]
     },
     "execution_count": 51,
     "metadata": {},
     "output_type": "execute_result"
    }
   ],
   "source": [
    "15//2"
   ]
  },
  {
   "cell_type": "code",
   "execution_count": 56,
   "id": "60f61c6f-2473-4626-96b7-ce4d5ce08b0c",
   "metadata": {},
   "outputs": [],
   "source": [
    "def funcEvenOdd(m):\n",
    "    if m/2 == m//2:\n",
    "        return True\n",
    "    else:\n",
    "        return False"
   ]
  },
  {
   "cell_type": "code",
   "execution_count": 57,
   "id": "c1a34a15-adf3-4ff7-aefe-b0009cb1368f",
   "metadata": {},
   "outputs": [
    {
     "data": {
      "text/plain": [
       "True"
      ]
     },
     "execution_count": 57,
     "metadata": {},
     "output_type": "execute_result"
    }
   ],
   "source": [
    "funcEvenOdd(90)"
   ]
  },
  {
   "cell_type": "code",
   "execution_count": 58,
   "id": "36ea690c-7462-44be-87c9-9725c4978733",
   "metadata": {},
   "outputs": [],
   "source": [
    "# sometimes the else statement is not required\n",
    "def funcEvenOdd_(m):\n",
    "    if m/2 == m//2:\n",
    "        return True\n",
    "    return False"
   ]
  },
  {
   "cell_type": "code",
   "execution_count": 59,
   "id": "568f0114-6542-4a36-9712-84354f908e4a",
   "metadata": {},
   "outputs": [
    {
     "data": {
      "text/plain": [
       "True"
      ]
     },
     "execution_count": 59,
     "metadata": {},
     "output_type": "execute_result"
    }
   ],
   "source": [
    "funcEvenOdd_(10)"
   ]
  },
  {
   "cell_type": "markdown",
   "id": "df3b6427-c242-4eab-a46f-61763ea31436",
   "metadata": {},
   "source": [
    "# Another example"
   ]
  },
  {
   "cell_type": "code",
   "execution_count": 60,
   "id": "c2c9f992-eea3-47fe-b980-64892d81d856",
   "metadata": {},
   "outputs": [],
   "source": [
    "def func_div(N,n):\n",
    "    if N/n == N//n:\n",
    "        return True\n",
    "    else:\n",
    "        return False"
   ]
  },
  {
   "cell_type": "code",
   "execution_count": 62,
   "id": "b8f38ef0-3fbb-499b-8b43-08e110128436",
   "metadata": {},
   "outputs": [
    {
     "data": {
      "text/plain": [
       "True"
      ]
     },
     "execution_count": 62,
     "metadata": {},
     "output_type": "execute_result"
    }
   ],
   "source": [
    "func_div(12,2)"
   ]
  },
  {
   "cell_type": "markdown",
   "id": "bef72eef-7507-45f2-a108-e4da0ee70d14",
   "metadata": {},
   "source": [
    "# Loops\n",
    "\n",
    "## specify operations to occur repeatedly"
   ]
  },
  {
   "cell_type": "code",
   "execution_count": 63,
   "id": "c37e6305-fc7e-4749-824f-c5bf434baf31",
   "metadata": {},
   "outputs": [
    {
     "data": {
      "text/plain": [
       "range(0, 10)"
      ]
     },
     "execution_count": 63,
     "metadata": {},
     "output_type": "execute_result"
    }
   ],
   "source": [
    "range(10)"
   ]
  },
  {
   "cell_type": "code",
   "execution_count": 66,
   "id": "08e17330-a583-41a5-8c9b-b5fbe204692f",
   "metadata": {},
   "outputs": [
    {
     "name": "stdout",
     "output_type": "stream",
     "text": [
      "11\n",
      "210\n",
      "13\n",
      "14\n"
     ]
    }
   ],
   "source": [
    "r=[1,200,3,4]\n",
    "for i in r:\n",
    "    print(i+10)"
   ]
  },
  {
   "cell_type": "code",
   "execution_count": 67,
   "id": "831b81db-da5b-49fa-b320-84c7e66722a7",
   "metadata": {},
   "outputs": [
    {
     "name": "stdout",
     "output_type": "stream",
     "text": [
      "6\n",
      "12\n",
      "18\n",
      "20\n",
      "24\n",
      "-20\n",
      "-10\n"
     ]
    }
   ],
   "source": [
    "x=[1,4,7,8,10,-12]\n",
    "for i in x:\n",
    "    j=i+2\n",
    "    print(2*j)\n",
    "print(j)"
   ]
  },
  {
   "cell_type": "markdown",
   "id": "4b8affe7-5c03-48f8-8b3f-4dac5038c900",
   "metadata": {},
   "source": [
    "# Write a function to calculate if a number is prime "
   ]
  },
  {
   "cell_type": "code",
   "execution_count": 68,
   "id": "aada5866-39ce-4bb9-a9ff-933b7e9c1a64",
   "metadata": {},
   "outputs": [],
   "source": [
    "def func_prime(N):\n",
    "    for i in range(N-2):\n",
    "        #print(i)\n",
    "        if func_div(N,i+2):\n",
    "            return False\n",
    "    return True"
   ]
  },
  {
   "cell_type": "code",
   "execution_count": 72,
   "id": "1aa04295-4459-4774-8fdf-9017b7f5de32",
   "metadata": {},
   "outputs": [
    {
     "data": {
      "text/plain": [
       "False"
      ]
     },
     "execution_count": 72,
     "metadata": {},
     "output_type": "execute_result"
    }
   ],
   "source": [
    "func_prime(289)"
   ]
  },
  {
   "cell_type": "markdown",
   "id": "f316577f-1c0d-4ded-bba8-013a620726fa",
   "metadata": {},
   "source": [
    "# advanced \n",
    "\n",
    "Write a function to retun all prime factors of a given number along with multiplicities"
   ]
  },
  {
   "cell_type": "code",
   "execution_count": null,
   "id": "ad716832-d831-4e12-9158-7f4d4ac693bc",
   "metadata": {},
   "outputs": [],
   "source": []
  }
 ],
 "metadata": {
  "kernelspec": {
   "display_name": "Python 3 (ipykernel)",
   "language": "python",
   "name": "python3"
  },
  "language_info": {
   "codemirror_mode": {
    "name": "ipython",
    "version": 3
   },
   "file_extension": ".py",
   "mimetype": "text/x-python",
   "name": "python",
   "nbconvert_exporter": "python",
   "pygments_lexer": "ipython3",
   "version": "3.12.10"
  }
 },
 "nbformat": 4,
 "nbformat_minor": 5
}
